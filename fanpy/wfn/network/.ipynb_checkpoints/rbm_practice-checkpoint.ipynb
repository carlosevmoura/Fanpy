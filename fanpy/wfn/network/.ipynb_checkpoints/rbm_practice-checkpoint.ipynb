{
 "cells": [
  {
   "cell_type": "code",
   "execution_count": 5,
   "id": "701f110f-d02a-4e1c-890d-268368538d53",
   "metadata": {},
   "outputs": [
    {
     "name": "stdout",
     "output_type": "stream",
     "text": [
      "nparams: 2160\n",
      "params_shapE: [(12, 12), (12, 12, 12), (12, 12), (12, 12)]\n"
     ]
    }
   ],
   "source": [
    "# import sys\n",
    "# print(sys.path)\n",
    "import numpy as np\n",
    "def activation(x):\n",
    "    return 1 + np.exp(x)\n",
    "    \n",
    "def activation_deriv(x):\n",
    "    return np.exp(x)\n",
    "    \n",
    "\n",
    "def get_occ_indices(sd):\n",
    "    if sd is None:\n",
    "        return ()\n",
    "    return np.array([i for i, occ in enumerate(bin(sd)[:1:-1]) if int(occ)], dtype=int)\n",
    "\n",
    "N=12 #nspins #visible_layer_units\n",
    "M=12 #nbath #hidden_layer_units\n",
    "orders = np.array([1,2]) #order_of_interaction_b/w_units\n",
    "nlayers = 3 #layer_excluding_input_but_including_o/p_layer #times_RBM_getting_optimized \n",
    "\n",
    "nparams = np.sum(M*N**orders) + (nlayers -1)*(M**2)\n",
    "print(\"nparams:\", nparams)\n",
    "params_shape = ([(M, *(N, )* order) for order in orders] + (nlayers -1)* [(M, M)])\n",
    "print(\"params_shapE:\", params_shape)\n",
    "\n",
    "# assign_template_params\n",
    "params = []\n",
    "for i, param_shape in enumerate(params_shape):\n",
    "    #print(i, param_shape)\n",
    "    params.append(np.zeros(param_shape))\n",
    "    \n",
    "scale = 1 / activation(0)\n",
    "output_scale = 0.5\n",
    "_template_params = params\n",
    "\n",
    "# print(params)\n",
    "#print(type(params))\n",
    "# print(len(params[1]))\n",
    "\n",
    "#assign_params\n",
    "# inp_params = np.array(np.arange(1,2500))\n",
    "# if isinstance (inp_params, np.ndarray):\n",
    "#     structured_params = []\n",
    "#     print(\"dfjd\")\n",
    "#     for param_shape in params_shape:\n",
    "#         #print(*param_shape, np.prod(param_shape))#,  inp_params[:np.prod(param_shape)])\n",
    "#         structured_params.append(inp_params[:np.prod(param_shape)]) #.reshape(*param_shape)\n",
    "#         #print(structured_params)\n",
    "#         inp_params = inp_params[np.prod(param_shape):]\n",
    "#     params = structured_params\n",
    "\n",
    "#params.append(np.zeros(N+1)) #sign_params\n",
    "_params = params\n",
    "#print(params[::-1])\n",
    "        \n"
   ]
  },
  {
   "cell_type": "code",
   "execution_count": 10,
   "id": "ebc43984-5e02-4264-8b6d-9f301dfc1993",
   "metadata": {},
   "outputs": [],
   "source": [
    "def slater_ground(nocc, norbs):\n",
    "    if __debug__:\n",
    "        if nocc > norbs:\n",
    "            raise ValueError(\n",
    "                \"Number of occupied spin-orbitals must be less than the total number of\"\n",
    "                \" spin-orbitals\"\n",
    "            )\n",
    "        if norbs % 2 != 0:\n",
    "            raise ValueError(\"Total number of spin-orbitals must be even\")\n",
    "    return int(\"0b\" + \"1\" * (nocc // 2 + nocc % 2), 2) + int(\n",
    "        \"0b\" + \"1\" * (nocc // 2) + \"0\" * (norbs // 2), 2\n",
    "    )\n",
    "    \n",
    "def get_seniority(sd, nspatial):\n",
    "    alpha_bits, beta_bits = split_spin(sd, nspatial)\n",
    "    return total_occ(alpha_bits ^ beta_bits)\n",
    "    \n",
    "def slater_occ_indices(sd):\n",
    "    if sd is None:\n",
    "        return ()\n",
    "    return np.array([i for i, occ in enumerate(bin(sd)[:1:-1]) if int(occ)], dtype=int)\n",
    "\n",
    "def split_spin(block_sd, nspatial):\n",
    "    # FIXME: no check for the total number of orbitals (can be less than actual number)\n",
    "    if __debug__ and nspatial <= 0:\n",
    "        raise ValueError(\"Number of spatial orbitals must be greater than 0\")\n",
    "    alpha_bits = block_sd & int(\"0b\" + \"1\" * nspatial, 2)\n",
    "    beta_bits = block_sd >> nspatial\n",
    "    return (alpha_bits, beta_bits)\n",
    "    \n",
    "def slater_vir_indices(sd, norbs):\n",
    "    if sd is None or norbs <= 0:\n",
    "        return ()\n",
    "    return np.array([i for i in range(norbs) if not sd & (1 << i)], dtype=int)\n",
    "\n",
    "def excite(sd, *indices):\n",
    "    if __debug__ and (len(indices) % 2) != 0:\n",
    "        raise ValueError(\"Unqual number of creators and annihilators\")\n",
    "    sd = annihilate(sd, *indices[: len(indices) // 2])\n",
    "    sd = create(sd, *indices[len(indices) // 2 :])\n",
    "    return sd\n",
    "    \n",
    "def total_occ(sd):\n",
    "    if sd is None:  # pylint: disable=R1705\n",
    "        return 0\n",
    "    else:\n",
    "        return bin(sd).count(\"1\")\n",
    "def get_spin(sd, nspatial):\n",
    "    alpha_bits, beta_bits = split_spin(sd, nspatial)\n",
    "    return (0.5) * (total_occ(alpha_bits) - total_occ(beta_bits))\n",
    "\n",
    "def satisfies_conditions(sd, nspatial, spin, seniority):\n",
    "    # pylint: disable=C0103\n",
    "    return spin in [None, get_spin(sd, nspatial)] and (\n",
    "        seniority is None or seniority >= get_seniority(sd, nspatial)\n",
    "        #seniority == slater.get_seniority(sd, nspatial)\n",
    "    )\n",
    "\n",
    "def annihilate(sd, *indices):\n",
    "    for i in indices:\n",
    "        # if orbital is not occupied\n",
    "        if not occ(sd, i):\n",
    "            return None\n",
    "        # if orbital is not occupied\n",
    "        sd ^= 1 << i\n",
    "    return sd\n",
    "\n",
    "\n",
    "def create(sd, *indices):\n",
    "    for i in indices:\n",
    "        if not occ(sd, i) and sd is not None:\n",
    "            sd |= 1 << i\n",
    "        else:\n",
    "            return None\n",
    "    return sd\n",
    "\n",
    "def occ(sd, i):\n",
    "    return sd is not None and (sd >> i) % 2\n",
    "    \n",
    "def sd_list(nelec, nspin, num_limit=None, exc_orders=None, spin=None, seniority=None):\n",
    "        # pylint: disable=C0103,R0912\n",
    "    if exc_orders is None:\n",
    "        exc_orders = range(1, nelec + 1)\n",
    "\n",
    "    if __debug__:\n",
    "        if not isinstance(nspin, int):\n",
    "            raise TypeError(\"Number of spin orbitals should be an integer\")\n",
    "        if not isinstance(nelec, int):  # pragma: no cover\n",
    "            raise TypeError(\"Number of electrons should be an integer\")\n",
    "        if num_limit is not None:\n",
    "            if not isinstance(num_limit, int):\n",
    "                raise TypeError(\"Number of Slater determinants should be an integer\")\n",
    "            if num_limit is not None and num_limit <= 0:\n",
    "                raise ValueError(\"Number of Slater determinants must be greater than 0.\")\n",
    "        if not (hasattr(exc_orders, \"__iter__\") and all(isinstance(i, int) for i in exc_orders)):\n",
    "            raise TypeError(\"Orders of excitations should be given as a list or tuple of integers\")\n",
    "        if not isinstance(spin, (int, float, type(None))):\n",
    "            raise TypeError(\"Spin should be given as an integer or a floating point\")\n",
    "        if not isinstance(seniority, (int, type(None))):\n",
    "            raise TypeError(\"Seniority should be given as an integer\")\n",
    "        if None not in [spin, seniority] and seniority < abs(2 * spin):\n",
    "            raise ValueError(\"Cannot have spin, {0}, with seniority, {1}.\".format(spin, seniority))\n",
    "\n",
    "    nspatial = nspin // 2\n",
    "\n",
    "    sds = []\n",
    "    # ASSUME: spin orbitals are ordered by increasing energy\n",
    "    ground = slater_ground(nelec, nspin)\n",
    "    if satisfies_conditions(ground, nspatial, spin, seniority):\n",
    "        sds.append(ground)\n",
    "\n",
    "    occ_indices = slater_occ_indices(ground).tolist()\n",
    "    #print(len(occ_indices), occ_indices)\n",
    "    vir_indices = slater_vir_indices(ground, nspin).tolist()\n",
    "    # order by energy\n",
    "    occ_indices = sorted(\n",
    "        occ_indices, key=lambda x: x - nspatial if x >= nspatial else x, reverse=True\n",
    "    )\n",
    "    vir_indices = sorted(vir_indices, key=lambda x: x - nspatial if x >= nspatial else x)\n",
    "\n",
    "    if num_limit is not None and num_limit == 1:\n",
    "        return sds\n",
    "\n",
    "    count = 1\n",
    "    for nexc in exc_orders:\n",
    "        occ_combinations = combinations(occ_indices, nexc)\n",
    "        vir_combinations = combinations(vir_indices, nexc)\n",
    "        for occ, vir in product(occ_combinations, vir_combinations):\n",
    "            sd = excite(ground, *(occ + vir))\n",
    "            if not satisfies_conditions(sd, nspatial, spin, seniority):\n",
    "                continue\n",
    "            sds.append(sd)\n",
    "            count += 1\n",
    "            if num_limit is not None and count == num_limit:\n",
    "                return sds\n",
    "    return sds\n",
    "\n",
    "\n"
   ]
  },
  {
   "cell_type": "code",
   "execution_count": 14,
   "id": "42014ad5-7e1a-47f6-bbfa-ff0f7ddb0653",
   "metadata": {
    "tags": []
   },
   "outputs": [],
   "source": [
    "sd_00 = sd_list(nelec=4, nspin=12, num_limit=None, exc_orders=[0], spin=None, seniority=0)\n",
    "sd_10 = sd_list(nelec=4, nspin=12, num_limit=None, exc_orders=[1], spin=None, seniority=0)\n",
    "sd_12 = sd_list(nelec=4, nspin=12, num_limit=None, exc_orders=[1], spin=None, seniority=2)\n",
    "sd_20 = sd_list(nelec=4, nspin=12, num_limit=None, exc_orders=[2], spin=None, seniority=0)\n",
    "sd_22 = sd_list(nelec=4, nspin=12, num_limit=None, exc_orders=[2], spin=None, seniority=2)\n",
    "sd_24 = sd_list(nelec=4, nspin=12, num_limit=None, exc_orders=[2], spin=None, seniority=4)\n",
    "sd_32 = sd_list(nelec=4, nspin=12, num_limit=None, exc_orders=[3], spin=None, seniority=2)\n",
    "sd_34 = sd_list(nelec=4, nspin=12, num_limit=None, exc_orders=[3], spin=None, seniority=4)\n",
    "sd_40 = sd_list(nelec=4, nspin=12, num_limit=None, exc_orders=[4], spin=None, seniority=0)\n",
    "sd_42 = sd_list(nelec=4, nspin=12, num_limit=None, exc_orders=[4], spin=None, seniority=2)\n",
    "sd_44 = sd_list(nelec=4, nspin=12, num_limit=None, exc_orders=[4], spin=None, seniority=4)"
   ]
  },
  {
   "cell_type": "code",
   "execution_count": 18,
   "id": "8e5ef546-f95f-4fbb-8957-6d063e061f93",
   "metadata": {
    "tags": []
   },
   "outputs": [],
   "source": [
    "sd_create = list(set(sd_00 + sd_10 + sd_12 +sd_20 +sd_22+sd_24 +sd_32 +sd_34 +sd_40+sd_42 +sd_44 ))"
   ]
  },
  {
   "cell_type": "code",
   "execution_count": 17,
   "id": "a9a62a78-f544-4daf-adac-92478df85c41",
   "metadata": {
    "tags": []
   },
   "outputs": [],
   "source": [
    "sds_lih = [195, 198, 197, 202, 201, 210, 209, 226, 225, 387, 323, 643, 579, 1155, 1091, 2179, 2115, 204, 212, 216, 228, 232, 240, 390, 326, 646, 582, 1158, 1094, 2182, 2118, 389, 325, 645, 581, 1157, 1093, 2181, 2117, 394, 330, 650, 586, 1162, 1098, 2186, 2122, 393, 329, 649, 585, 1161, 1097, 2185, 2121, 402, 338, 658, 594, 1170, 1106, 2194, 2130, 401, 337, 657, 593, 1169, 1105, 2193, 2129, 418, 354, 674, 610, 1186, 1122, 2210, 2146, 417, 353, 673, 609, 1185, 1121, 2209, 2145, 771, 1283, 1539, 2307, 2563, 3075, 396, 332, 652, 588, 1164, 1100, 2188, 2124, 404, 340, 660, 596, 1172, 1108, 2196, 2132, 408, 344, 664, 600, 1176, 1112, 2200, 2136, 420, 356, 676, 612, 1188, 1124, 2212, 2148, 424, 360, 680, 616, 1192, 1128, 2216, 2152, 432, 368, 688, 624, 1200, 1136, 2224, 2160, 774, 1286, 1542, 2310, 2566, 3078, 773, 1285, 1541, 2309, 2565, 3077, 778, 1290, 1546, 2314, 2570, 3082, 777, 1289, 1545, 2313, 2569, 3081, 786, 1298, 1554, 2322, 2578, 3090, 785, 1297, 1553, 2321, 2577, 3089, 802, 1314, 1570, 2338, 2594, 3106, 801, 1313, 1569, 2337, 2593, 3105, 780, 1292, 1548, 2316, 2572, 3084, 788, 1300, 1556, 2324, 2580, 3092, 792, 1304, 1560, 2328, 2584, 3096, 804, 1316, 1572, 2340, 2596, 3108, 808, 1320, 1576, 2344, 2600, 3112, 816, 1328, 1584, 2352, 2608, 3120]"
   ]
  },
  {
   "cell_type": "code",
   "execution_count": 31,
   "id": "76958876-9c64-40a7-aba3-7b583308b2c9",
   "metadata": {
    "tags": []
   },
   "outputs": [],
   "source": [
    "def find_list_name(list_of_lists, element):\n",
    "    for list_name, lst in list_of_lists.items():\n",
    "        if element in lst:\n",
    "            return list_name\n",
    "    return None  # Element was not found in any list\n",
    "\n",
    "\n",
    "lists = {'sd_00': sd_00, 'sd_10': sd_10, 'sd_12': sd_12, 'sd_20':sd_20, 'sd_22': sd_22, \n",
    "         'sd_24': sd_24, 'sd_32': sd_32, 'sd_34': sd_34, 'sd_40': sd_40, 'sd_42': sd_42,\n",
    "         'sd_44': sd_44}\n",
    "dict_sd = {}\n",
    "for sd in sds_lih:\n",
    "    result = find_list_name(lists, sd)\n",
    "\n",
    "    if result:\n",
    "        element = \"{\" + f\"{sd}: ({result[-2]}, {result[-1]})\" + \"}\"\n",
    "        dict_sd[sd] = (int(result[-2]), int(result[-1]))\n",
    "        # print(f\"{sd}: ({result[-2]}, {result[-1]})\")\n",
    "    else:\n",
    "        print(f\"The element {sd} was not found in any list.\")\n",
    "        \n",
    "# print(dict_sd)"
   ]
  },
  {
   "cell_type": "code",
   "execution_count": 4,
   "id": "a8ea7cae-7c7b-4c43-9549-3d1bdc314373",
   "metadata": {
    "scrolled": true
   },
   "outputs": [
    {
     "name": "stdout",
     "output_type": "stream",
     "text": [
      "4 [0, 1, 6, 7]\n"
     ]
    },
    {
     "data": {
      "text/plain": [
       "195"
      ]
     },
     "execution_count": 4,
     "metadata": {},
     "output_type": "execute_result"
    }
   ],
   "source": [
    "import numpy as np\n",
    "from itertools import combinations, product\n",
    "nspin = 12\n",
    "sds = sd_list(nelec=4, nspin=12)\n",
    "occ_mask = np.zeros(nspin, dtype=bool)\n",
    "# sds = sds.sort()\n",
    "slater_ground(4, 12)"
   ]
  },
  {
   "cell_type": "code",
   "execution_count": 5,
   "id": "77f6ea31-d414-4cb9-ad59-99bf9472a0de",
   "metadata": {},
   "outputs": [],
   "source": [
    "def _olp_helper(sd=917, cache=False):\n",
    "    occ_indices = slater_occ_indices(sd)\n",
    "    occ_mask = np.zeros(N, dtype=bool)\n",
    "    occ_mask[occ_indices] = True\n",
    "\n",
    "    output = np.zeros(params_shape[0][0])\n",
    "    for order, layer_params in zip(orders, _params):\n",
    "        #print(list(zip(orders, _params)))\n",
    "        #print(order, layer_params.ndim, layer_params, )\n",
    "        input_layer = np.zeros((nspin,) * order)\n",
    "        #print(\"input_layer:\", input_layer)\n",
    "        mask = occ_mask\n",
    "        #print(\"\\nmask:\", mask)\n",
    "\n",
    "        for _ in range(order - 1):\n",
    "            #print(\"\\n _, expand MASK:\", _,  np.expand_dims(mask, -1))\n",
    "            #print(occ_mask)\n",
    "            mask = occ_mask & np.expand_dims(mask, -1)\n",
    "            #print(\"\\nMASK:\", mask)\n",
    "        input_layer[mask] = 1\n",
    "        #print(\"input_layer:\", input_layer)\n",
    "        #print( np.shape(layer_params), np.shape(input_layer))\n",
    "        next_layer = np.sum(\n",
    "                layer_params * input_layer, axis=tuple(np.arange(1, layer_params.ndim))\n",
    "            )\n",
    "        #print(\"next_layer:\", next_layer)\n",
    "        output += next_layer\n",
    "        #print(np.shape(output))\n",
    "\n",
    "    print(\"op:\", output)\n",
    "    output = activation(output)\n",
    "    print(output)\n",
    "    #print(_params[len(orders):])\n",
    "    for layer_params in _params[len(orders):]:\n",
    "        output = layer_params.dot(output)\n",
    "        output = activation(output)\n",
    "    return output"
   ]
  },
  {
   "cell_type": "code",
   "execution_count": 6,
   "id": "c384d869-60e5-4444-a181-b7c695249997",
   "metadata": {},
   "outputs": [],
   "source": [
    "def _olp(sd):\n",
    "    #print(np.shape(_olp_helper(sd)))\n",
    "    print(_olp_helper(sd).shape)\n",
    "    output = np.prod(_olp_helper(sd) * output_scale)\n",
    "    print(_olp_helper(sd), output)\n",
    "    return output\n"
   ]
  },
  {
   "cell_type": "code",
   "execution_count": 39,
   "id": "a0b95087-ca61-46dd-9e8d-9e2d9682028f",
   "metadata": {
    "tags": []
   },
   "outputs": [],
   "source": [
    "_params.append(np.zeros((nspin+1,)))"
   ]
  },
  {
   "cell_type": "code",
   "execution_count": 8,
   "id": "a42f4688-a1b2-4f83-86c0-913e150c1e00",
   "metadata": {
    "tags": []
   },
   "outputs": [
    {
     "name": "stdout",
     "output_type": "stream",
     "text": [
      "[ True  True False False False False  True  True False False False False]\n"
     ]
    }
   ],
   "source": [
    "occ_indices = np.array(slater_occ_indices(195))\n",
    "occ_mask = np.zeros(nspin, dtype=bool)\n",
    "occ_mask[occ_indices] = True\n",
    "print(occ_mask)\n",
    "for order in orders:\n",
    "    mask = occ_mask\n",
    "    for _ in range(order-1):\n",
    "        #print(_)\n",
    "        mask = occ_mask & np.expand_dims(mask, -1)\n",
    "        #print(mask)"
   ]
  },
  {
   "cell_type": "code",
   "execution_count": 47,
   "id": "f92e72a1-c327-4ed2-85ac-20f60fc7f637",
   "metadata": {
    "tags": []
   },
   "outputs": [
    {
     "name": "stdout",
     "output_type": "stream",
     "text": [
      "0\n"
     ]
    }
   ],
   "source": [
    "for i in range(1):\n",
    "    print(i)"
   ]
  },
  {
   "cell_type": "code",
   "execution_count": 9,
   "id": "c5201dab-4e54-4649-ad99-8946de316bbf",
   "metadata": {
    "tags": []
   },
   "outputs": [],
   "source": [
    "# _params[3::-1]"
   ]
  },
  {
   "cell_type": "code",
   "execution_count": 7,
   "id": "f0be4908-1914-4b92-9d04-8e7433db93d6",
   "metadata": {},
   "outputs": [],
   "source": [
    "# import numpy as np\n",
    "# x = np.array(([1,2],[3,4],[5,6]))\n",
    "# print(x)\n",
    "# print(np.shape(x))\n",
    "# ma = np.expand_dims(x, -1)\n",
    "# print(ma)\n",
    "# print(np.shape(ma))"
   ]
  },
  {
   "cell_type": "code",
   "execution_count": 8,
   "id": "be6e3dc7-6400-4ef7-8112-b757914391fa",
   "metadata": {},
   "outputs": [],
   "source": [
    "a = np.zeros((4,4))\n",
    "b = np.ones(4, dtype=bool)\n",
    "c = np.expand_dims(b, -1)"
   ]
  },
  {
   "cell_type": "code",
   "execution_count": 9,
   "id": "174b2893-e41f-4458-b953-97369ea7107b",
   "metadata": {},
   "outputs": [
    {
     "data": {
      "text/plain": [
       "array([[15, 15, 16, 10],\n",
       "       [18, 12, 20, 12],\n",
       "       [18, 12, 28,  8],\n",
       "       [ 9,  9, 12,  6]])"
      ]
     },
     "execution_count": 9,
     "metadata": {},
     "output_type": "execute_result"
    }
   ],
   "source": [
    "x = np.random.randint(low=3, high=8, size= (4, 4))\n",
    "y = np.random.randint(low=2, high=5, size= (4,))\n",
    "x*y"
   ]
  },
  {
   "cell_type": "code",
   "execution_count": 10,
   "id": "1c03af2e-e41f-4079-834d-135943125dc6",
   "metadata": {},
   "outputs": [
    {
     "data": {
      "text/plain": [
       "array([56, 62, 66, 36])"
      ]
     },
     "execution_count": 10,
     "metadata": {},
     "output_type": "execute_result"
    }
   ],
   "source": [
    "np.sum(x*y, axis=tuple(np.arange(1,2)))"
   ]
  },
  {
   "cell_type": "code",
   "execution_count": 11,
   "id": "a43769d0-7084-480b-9779-60d75deb9d22",
   "metadata": {},
   "outputs": [
    {
     "name": "stdout",
     "output_type": "stream",
     "text": [
      "0\n"
     ]
    }
   ],
   "source": [
    "for i in range(1):\n",
    "    print(i)"
   ]
  },
  {
   "cell_type": "code",
   "execution_count": 12,
   "id": "cf046b12-edec-4d0a-a46a-3518b397b3d7",
   "metadata": {},
   "outputs": [],
   "source": [
    "import numpy as np\n",
    "a = np.ones(4)*10\n",
    "b = np.ones(2)*5\n",
    "c = np.zeros(3)\n",
    "lst = []\n",
    "lst.append(a)\n",
    "lst.append(b)"
   ]
  },
  {
   "cell_type": "code",
   "execution_count": 13,
   "id": "d71a8f9b-cf30-416c-a0d2-4ced1d38da15",
   "metadata": {},
   "outputs": [
    {
     "name": "stdout",
     "output_type": "stream",
     "text": [
      "(495, 12)\n",
      "(495, 12, 12)\n"
     ]
    }
   ],
   "source": [
    "for order, layer_params in zip(orders, _params):\n",
    "    input_layer = np.zeros((len(sds),)+ (nspin, )*order)\n",
    "    print(np.shape(input_layer))"
   ]
  },
  {
   "cell_type": "code",
   "execution_count": 10,
   "id": "9e937f21-214f-461c-9119-fe65746e458c",
   "metadata": {},
   "outputs": [],
   "source": [
    "# nbath = M\n",
    "# nspin = N\n",
    "# def get_overlaps(sds, deriv=None):\n",
    "#     if len(sds) == 0:\n",
    "#         return np.array([])\n",
    "#     occ_indices = np.array([slater_occ_indices(sd) for sd in sds])\n",
    "\n",
    "#     vals = np.zeros((len(sds), nbath))\n",
    "#     vals = vals.T\n",
    "#     print(len(sds))\n",
    "#     forward_cache_act = []\n",
    "#     forward_cache_lin = []\n",
    "    \n",
    "#     occ_mask = np.zeros((len(sds), nspin), dtype=bool)\n",
    "#     for i, inds in enumerate(occ_indices):\n",
    "#         occ_mask[i, inds] = True\n",
    "#     #print(occ_mask.shape)\n",
    "#     for order, layer_params in zip(orders, _params):\n",
    "#         input_layer = np.zeros((len(sds),) + (nspin,) *order)\n",
    "#         mask = occ_mask\n",
    "#         print(\"order: \", order)\n",
    "#         for i in range(order - 1):\n",
    "#             occ_mask = np.expand_dims(occ_mask, 1)\n",
    "#             print(\"occ_mask.shape\", occ_mask.shape)\n",
    "#             #print(occ_mask)\n",
    "#             # if order == 2:\n",
    "#             #     print(occ_mask)\n",
    "#             mask = np.expand_dims(mask, - 1) & occ_mask\n",
    "#         input_layer[mask] = 1\n",
    "#         #print(input_layer[None].shape, layer_params[:, None].shape, tuple(np.arange(2, layer_params.ndim + 1)), (input_layer[None]*layer_params[:, None]).shape)\n",
    "#         print(input_layer.shape[0])\n",
    "#         forward_cache_act.append(input_layer.reshape(input_layer.shape[0], -1).T)\n",
    "        \n",
    "#         next_layer = np.sum(layer_params[:, None]*input_layer[None], axis=tuple(np.arange(2, layer_params.ndim + 1)))\n",
    "#         vals += next_layer\n",
    "        \n",
    "#     for _ in orders:\n",
    "#         forward_cache_lin.append(vals)\n",
    "#     vals = activation(vals)\n",
    "#     print(\"vals.shape\", vals.shape)\n",
    "\n",
    "#     print(_params[::-1][0].shape)\n",
    "#     #print(_params[::-1])\n",
    "#     for layer_params in _params[len(orders):]:\n",
    "#         print(\"Here\")\n",
    "#         vals = layer_params.dot(vals)\n",
    "#         forward_cache_lin.append(vals)\n",
    "#         vals = activation(vals)\n",
    "\n",
    "#     print(\"vals\", vals)    \n",
    "#     #print(\"_params\", _params, _params[::-1])\n",
    "#     if deriv is None:\n",
    "#         print(np.prod(vals*output_scale, axis=0).shape)\n",
    "#         return np.prod(vals*output_scale, axis=0)\n",
    "\n",
    "#     print(\"here vals\", vals) \n",
    "\n",
    "#     grads = []\n",
    "#     dy_da_prev = np.identity(nbath)[:, :, None]\n",
    "\n",
    "    \n",
    "#     for i, layer_params in enumerate(_params[::-1]):\n",
    "#         i = len(_params) - 1 - i\n",
    "#         dy_da_curr = dy_da_prev\n",
    "#         a_prev = forward_cache_act[i]\n",
    "#         z_curr = forward_cache_lin[i]\n",
    "#         w_curr = _params[i]\n",
    "\n",
    "#         # z_curr_i = \\sum_j w_curr_ij a_prev_j\n",
    "#         # a_curr_j = sigma(z_curr_i)\n",
    "#         da_curr_dz_curr = activation_deriv(z_curr)\n",
    "#         dy_dz_curr = dy_da_curr * da_curr_dz_curr\n",
    "\n",
    "#         dz_curr_dw_curr = a_prev[None, None, :, :]\n",
    "#         dy_dw_curr = dy_dz_curr[:, :, None, :] * dz_curr_dw_curr\n",
    "\n",
    "#         if i >= len(orders):\n",
    "#             dz_curr_da_prev = w_curr\n",
    "#             dy_da_prev = np.tensordot(dy_dz_curr, dz_curr_da_prev, axes=(1, 0))\n",
    "#             dy_da_prev = np.swapaxes(dy_da_prev, 1, 2)\n",
    "\n",
    "#         grads.append(dy_dw_curr * output_scale)\n",
    "#     grads = grads[::-1]\n",
    "\n",
    "#     # get product of the network output that have not been derivatived\n",
    "#     indices = np.arange(nbath)\n",
    "#     indices = np.array([np.roll(indices, - i - 1, axis=0)[:-1] for i in indices])\n",
    "#     other_vals = np.prod(vals[indices] * output_scale, axis=1)\n",
    "\n",
    "#     output = []\n",
    "#     for grads_layer in grads[:-1]:\n",
    "#         output.append(\n",
    "#             np.moveaxis(\n",
    "#                 np.sum(other_vals[:, None, None] * grads_layer, axis=0), 2, 0\n",
    "#             ).reshape(len(sds), -1)\n",
    "#         )\n",
    "#     output.append(\n",
    "#          np.moveaxis(np.sum(other_vals[:, None, None, :] * grads[-1], axis=0), 2, 0).reshape(len(sds),-1))\n",
    "\n",
    "\n",
    "#     print(\"output\", output)\n",
    "#     return np.hstack(output)[:, deriv]\n",
    "        \n",
    "# get_overlaps(sds)"
   ]
  },
  {
   "cell_type": "code",
   "execution_count": 15,
   "id": "311a99b8-f11b-42cc-bc48-af7ddaee573e",
   "metadata": {},
   "outputs": [
    {
     "data": {
      "text/plain": [
       "[(3, 5, 5)]"
      ]
     },
     "execution_count": 15,
     "metadata": {},
     "output_type": "execute_result"
    }
   ],
   "source": [
    "[(3,) + (5,)*2]"
   ]
  },
  {
   "cell_type": "code",
   "execution_count": 16,
   "id": "5c893bec-a878-4309-aae2-f0a4a5cc54a7",
   "metadata": {},
   "outputs": [
    {
     "data": {
      "text/plain": [
       "array([[5.14112001, 4.04107573, 4.04107573]])"
      ]
     },
     "execution_count": 16,
     "metadata": {},
     "output_type": "execute_result"
    }
   ],
   "source": [
    "import numpy as np\n",
    "arr = np.sin([(3,) + (5,)*2]) + 5\n",
    "arr\n",
    "#np.zeros((14, ) + (7,)*2)"
   ]
  },
  {
   "cell_type": "code",
   "execution_count": 17,
   "id": "83dd1ee1-21bf-4170-bfe9-4381c5c7e927",
   "metadata": {},
   "outputs": [
    {
     "data": {
      "text/plain": [
       "(1, 5, 6)"
      ]
     },
     "execution_count": 17,
     "metadata": {},
     "output_type": "execute_result"
    }
   ],
   "source": [
    "xyz = np.random.randint(10, size=(5,6))\n",
    "x1y  = np.expand_dims(xyz, 1)\n",
    "xy1 = np.expand_dims(xyz, -1)\n",
    "\n",
    "# print(x1y, xy1)\n",
    "# print(x1y & xy1)\n",
    "xyz[:, None].shape\n",
    "x1y.shape\n",
    "xyz[None].shape"
   ]
  },
  {
   "cell_type": "code",
   "execution_count": 18,
   "id": "7ab1ee96-bd4d-4f8f-8f90-622776c3e4d2",
   "metadata": {},
   "outputs": [],
   "source": [
    "list_params = []\n",
    "list_params.append(np.ones((4,4)))\n",
    "list_params.append(np.ones((4,4,4)))\n",
    "list_params.append(np.ones((10,)))"
   ]
  },
  {
   "cell_type": "code",
   "execution_count": 19,
   "id": "3f0ef74a-cbb0-432b-8397-774b8af420c9",
   "metadata": {
    "tags": []
   },
   "outputs": [],
   "source": [
    "# list_params[1::-1]"
   ]
  },
  {
   "cell_type": "code",
   "execution_count": 20,
   "id": "e1b10e2d-176a-4276-9778-7c1eb9a31693",
   "metadata": {
    "tags": []
   },
   "outputs": [
    {
     "name": "stdout",
     "output_type": "stream",
     "text": [
      "0 10\n",
      "9\n",
      "1 4\n",
      "2\n",
      "2 4\n",
      "1\n"
     ]
    }
   ],
   "source": [
    "for i, layer_params in enumerate(list_params[::-1]):\n",
    "    print(i, len(layer_params))\n",
    "    i = len(layer_params) -1 -i\n",
    "    print(i)"
   ]
  },
  {
   "cell_type": "code",
   "execution_count": 21,
   "id": "f8de9f3d-481e-4960-8a26-ec7efd441e42",
   "metadata": {},
   "outputs": [],
   "source": [
    "import numpy as np\n",
    "abc  = [4.5,6,8,9]\n",
    "xyz = np.ones((len(abc), 8), dtype = bool)"
   ]
  },
  {
   "cell_type": "code",
   "execution_count": 22,
   "id": "6aa3185f-980e-4865-9835-83bc054f57ae",
   "metadata": {},
   "outputs": [],
   "source": [
    "pqr = np.random.randint(10, size = (4,9))"
   ]
  },
  {
   "cell_type": "code",
   "execution_count": 23,
   "id": "6e2e6fd8-1ebb-4e5a-9e7a-054281f09e2b",
   "metadata": {
    "tags": []
   },
   "outputs": [
    {
     "data": {
      "text/plain": [
       "array([[3, 8, 8, 5, 8, 6, 9, 8, 6],\n",
       "       [5, 4, 8, 9, 1, 2, 9, 2, 0],\n",
       "       [5, 5, 6, 7, 7, 2, 4, 6, 2],\n",
       "       [6, 0, 1, 9, 6, 2, 6, 3, 2]])"
      ]
     },
     "execution_count": 23,
     "metadata": {},
     "output_type": "execute_result"
    }
   ],
   "source": [
    "pqr"
   ]
  },
  {
   "cell_type": "code",
   "execution_count": 24,
   "id": "c14c012b-a1d4-41fb-ac42-7b7a9c132fab",
   "metadata": {
    "tags": []
   },
   "outputs": [
    {
     "data": {
      "text/plain": [
       "array([[3, 8, 8, 5, 8, 6, 9, 8],\n",
       "       [5, 4, 8, 9, 1, 2, 9, 2],\n",
       "       [5, 5, 6, 7, 7, 2, 4, 6],\n",
       "       [6, 0, 1, 9, 6, 2, 6, 3]])"
      ]
     },
     "execution_count": 24,
     "metadata": {},
     "output_type": "execute_result"
    }
   ],
   "source": [
    "pqr[:,:-1]"
   ]
  },
  {
   "cell_type": "code",
   "execution_count": 25,
   "id": "43346431-e6a6-4f54-94c5-9681032ff529",
   "metadata": {
    "tags": []
   },
   "outputs": [
    {
     "data": {
      "text/plain": [
       "array([61, 40, 44, 35])"
      ]
     },
     "execution_count": 25,
     "metadata": {},
     "output_type": "execute_result"
    }
   ],
   "source": [
    "rst = (pqr[:,:-1]*xyz).sum(axis=1) + pqr[:, -1]\n",
    "rst"
   ]
  },
  {
   "cell_type": "code",
   "execution_count": 26,
   "id": "ce2f593a-4f8e-4d8c-b229-8d0e26b86c45",
   "metadata": {
    "tags": []
   },
   "outputs": [
    {
     "data": {
      "text/plain": [
       "array([305, 160, 132,  70])"
      ]
     },
     "execution_count": 26,
     "metadata": {},
     "output_type": "execute_result"
    }
   ],
   "source": [
    "mult = [5,4,3,2]\n",
    "rst*mult"
   ]
  },
  {
   "cell_type": "code",
   "execution_count": 27,
   "id": "78c22dea-84ff-488a-9aec-bf6f56a3ca98",
   "metadata": {
    "tags": []
   },
   "outputs": [
    {
     "data": {
      "text/plain": [
       "array([43, 23, 41, 39])"
      ]
     },
     "execution_count": 27,
     "metadata": {},
     "output_type": "execute_result"
    }
   ],
   "source": [
    "[37, 23, 39, 37] + pqr[:, -1]"
   ]
  },
  {
   "cell_type": "code",
   "execution_count": 28,
   "id": "e588a73d-159e-4564-873c-c9762a5c9a24",
   "metadata": {
    "tags": []
   },
   "outputs": [
    {
     "data": {
      "text/plain": [
       "array([1., 1., 1., 1.])"
      ]
     },
     "execution_count": 28,
     "metadata": {},
     "output_type": "execute_result"
    }
   ],
   "source": [
    "np.tanh([37, 23, 39, 37] + pqr[:, -1])"
   ]
  },
  {
   "cell_type": "code",
   "execution_count": 26,
   "id": "2d7be846-77bc-442e-a9c1-3b4ea8bdef7f",
   "metadata": {
    "tags": []
   },
   "outputs": [],
   "source": [
    "abc  = [4.5,6,8,9]\n",
    "import numpy as np\n",
    "xyz = np.random.randint(1, size=(len(abc), 4), dtype = bool)\n",
    "occ_indices = np.array([[0, 1, 3],\n",
    "       [1, 2, 3],\n",
    "       [0, 1, 2]])"
   ]
  },
  {
   "cell_type": "code",
   "execution_count": 30,
   "id": "a88633ec-f657-4383-a620-7bb9eeeb4259",
   "metadata": {
    "tags": []
   },
   "outputs": [
    {
     "data": {
      "text/plain": [
       "array([False, False, False, False])"
      ]
     },
     "execution_count": 30,
     "metadata": {},
     "output_type": "execute_result"
    }
   ],
   "source": [
    "xyz = np.zeros(4, dtype=bool)\n",
    "xyz"
   ]
  },
  {
   "cell_type": "code",
   "execution_count": 31,
   "id": "e91e6c88-2391-4d89-8cc3-218f6350ecc1",
   "metadata": {
    "tags": []
   },
   "outputs": [
    {
     "data": {
      "text/plain": [
       "array([ True,  True, False,  True])"
      ]
     },
     "execution_count": 31,
     "metadata": {},
     "output_type": "execute_result"
    }
   ],
   "source": [
    "xyz[occ_indices[0]] = True\n",
    "xyz"
   ]
  },
  {
   "cell_type": "code",
   "execution_count": 23,
   "id": "4c16e597-70d3-47a5-95e6-d8d0f69613df",
   "metadata": {
    "tags": []
   },
   "outputs": [
    {
     "data": {
      "text/plain": [
       "array([[0, 1, 3],\n",
       "       [1, 2, 3],\n",
       "       [0, 1, 2]])"
      ]
     },
     "execution_count": 23,
     "metadata": {},
     "output_type": "execute_result"
    }
   ],
   "source": [
    "occ_indices"
   ]
  },
  {
   "cell_type": "code",
   "execution_count": 13,
   "id": "b09e8433-dee4-4180-8412-c07b9d06b0c0",
   "metadata": {
    "tags": []
   },
   "outputs": [],
   "source": [
    "occ_mask = np.zeros((4,9))"
   ]
  },
  {
   "cell_type": "code",
   "execution_count": 32,
   "id": "e3f463fb-d13f-42ff-bb53-8bb3a0e14302",
   "metadata": {
    "tags": []
   },
   "outputs": [
    {
     "data": {
      "text/plain": [
       "(5, 5, 1)"
      ]
     },
     "execution_count": 32,
     "metadata": {},
     "output_type": "execute_result"
    }
   ],
   "source": [
    "np.identity(5)[:,:,None].shape"
   ]
  },
  {
   "cell_type": "code",
   "execution_count": null,
   "id": "aa3c8a8f-52bb-42c2-9761-50ee4ecfdf82",
   "metadata": {},
   "outputs": [],
   "source": []
  },
  {
   "cell_type": "code",
   "execution_count": 33,
   "id": "feb90291-782d-4a0a-99f4-e32f3f720b39",
   "metadata": {
    "tags": []
   },
   "outputs": [
    {
     "name": "stdout",
     "output_type": "stream",
     "text": [
      "1\n",
      "0\n"
     ]
    }
   ],
   "source": [
    "for i, layer_params in enumerate( _params[1::-1]):\n",
    "    #print(i)\n",
    "    i = len(_params) -1 -i\n",
    "    print(i)"
   ]
  },
  {
   "cell_type": "code",
   "execution_count": 34,
   "id": "2cc6c55d-26cd-4b92-9aef-369086cf17ca",
   "metadata": {
    "tags": []
   },
   "outputs": [],
   "source": [
    "import numpy as np\n",
    "indices = np.arange(14)\n",
    "indices = np.array([np.roll(indices, -i-1, axis=0) for i in indices])"
   ]
  },
  {
   "cell_type": "code",
   "execution_count": 35,
   "id": "1ae1732f-de25-4348-8629-6d312a04499e",
   "metadata": {},
   "outputs": [
    {
     "data": {
      "text/plain": [
       "array([[ 1,  2,  3,  4,  5,  6,  7,  8,  9, 10, 11, 12, 13,  0],\n",
       "       [ 2,  3,  4,  5,  6,  7,  8,  9, 10, 11, 12, 13,  0,  1],\n",
       "       [ 3,  4,  5,  6,  7,  8,  9, 10, 11, 12, 13,  0,  1,  2],\n",
       "       [ 4,  5,  6,  7,  8,  9, 10, 11, 12, 13,  0,  1,  2,  3],\n",
       "       [ 5,  6,  7,  8,  9, 10, 11, 12, 13,  0,  1,  2,  3,  4],\n",
       "       [ 6,  7,  8,  9, 10, 11, 12, 13,  0,  1,  2,  3,  4,  5],\n",
       "       [ 7,  8,  9, 10, 11, 12, 13,  0,  1,  2,  3,  4,  5,  6],\n",
       "       [ 8,  9, 10, 11, 12, 13,  0,  1,  2,  3,  4,  5,  6,  7],\n",
       "       [ 9, 10, 11, 12, 13,  0,  1,  2,  3,  4,  5,  6,  7,  8],\n",
       "       [10, 11, 12, 13,  0,  1,  2,  3,  4,  5,  6,  7,  8,  9],\n",
       "       [11, 12, 13,  0,  1,  2,  3,  4,  5,  6,  7,  8,  9, 10],\n",
       "       [12, 13,  0,  1,  2,  3,  4,  5,  6,  7,  8,  9, 10, 11],\n",
       "       [13,  0,  1,  2,  3,  4,  5,  6,  7,  8,  9, 10, 11, 12],\n",
       "       [ 0,  1,  2,  3,  4,  5,  6,  7,  8,  9, 10, 11, 12, 13]])"
      ]
     },
     "execution_count": 35,
     "metadata": {},
     "output_type": "execute_result"
    }
   ],
   "source": [
    "indices"
   ]
  },
  {
   "cell_type": "code",
   "execution_count": 36,
   "id": "b6376fa6-042b-4b33-a734-fa542d16f2ac",
   "metadata": {},
   "outputs": [],
   "source": [
    "rand = np.random.randint(10, size=(3,9))\n",
    "rand\n",
    "pr = rand.reshape(3, -1)"
   ]
  },
  {
   "cell_type": "code",
   "execution_count": 37,
   "id": "58d60853-a3f7-4d3c-a3e3-81a59557a12a",
   "metadata": {
    "tags": []
   },
   "outputs": [
    {
     "name": "stdout",
     "output_type": "stream",
     "text": [
      "0\n",
      "1\n"
     ]
    }
   ],
   "source": [
    "for i, layer_params in enumerate(_params[::-1]):\n",
    "    print(i)"
   ]
  },
  {
   "cell_type": "code",
   "execution_count": 38,
   "id": "5d4aa703-f8fc-4408-90d1-be734eba7ad4",
   "metadata": {},
   "outputs": [
    {
     "data": {
      "text/plain": [
       "[(14, 10), (14, 14), (14, 14)]"
      ]
     },
     "execution_count": 38,
     "metadata": {},
     "output_type": "execute_result"
    }
   ],
   "source": [
    "[(14,10)] + (3-1)*[(14,14)]"
   ]
  },
  {
   "cell_type": "code",
   "execution_count": 39,
   "id": "0d2c9a63-5a82-48b7-9177-b86570bb190f",
   "metadata": {},
   "outputs": [],
   "source": [
    "import numpy as np\n",
    "# orders = range(2)\n",
    "# arrs = [np.random.randint(10, size=(3,3)) for _ in range(4) ]"
   ]
  },
  {
   "cell_type": "code",
   "execution_count": 40,
   "id": "ea0e169c-3ed3-419d-adc9-b66723e8ffc9",
   "metadata": {},
   "outputs": [],
   "source": [
    "# pqr =  np.random.randint(10, size=(10,4))\n",
    "# pqr.reshape(pqr.shape[0], -1)\n",
    "# pqr.reshape(pqr.shape[0], -1).T\n",
    "# pqr[None]"
   ]
  },
  {
   "cell_type": "code",
   "execution_count": 41,
   "id": "56761a36-7ade-45c4-8024-c01de4f42ba9",
   "metadata": {
    "tags": []
   },
   "outputs": [],
   "source": [
    "# layer_prm = np.random.randint(10, size=(4,4))\n",
    "# layer_prm[:, None].shape\n",
    "# (layer_prm[:, None] * pqr[None]).shape\n",
    "# tuple(np.arange(2, layer_prm.ndim+1))\n",
    "# np.sum(layer_prm[:, None] * pqr[None], axis=tuple(np.arange(2,layer_prm.ndim+1 ))).shape"
   ]
  },
  {
   "cell_type": "code",
   "execution_count": 42,
   "id": "b1ddb5ff-8348-4cf1-9ccc-48b70d68911f",
   "metadata": {
    "tags": []
   },
   "outputs": [],
   "source": [
    "# arr = np.random.randint(10, size=(10,4,4))\n",
    "# arr.shape\n",
    "# arr.T.shape"
   ]
  },
  {
   "cell_type": "code",
   "execution_count": 43,
   "id": "a6c1f702-c1b8-45a1-9731-d2eb79ad08e5",
   "metadata": {
    "tags": []
   },
   "outputs": [],
   "source": [
    "# fin = (np.identity(4)[:, :, None] * np.random.randint(10, size=(4,10)))\n",
    "# fin.shape\n",
    " \n",
    "# (fin[:, :, None, :]* fin[None, None, :, :]).shape"
   ]
  },
  {
   "cell_type": "code",
   "execution_count": 52,
   "id": "40b8a1ba-56b3-4428-8a58-e7b31fe6234b",
   "metadata": {},
   "outputs": [],
   "source": [
    "import numpy as np\n",
    "indices = np.arange(4)\n",
    "indices = np.array([np.roll(indices, -i-1, axis=0)[:-1] for i in indices])\n",
    "# np.prod(indices, axis=1)"
   ]
  },
  {
   "cell_type": "code",
   "execution_count": 53,
   "id": "50b7afa3-11a8-4221-ab32-67372f9d7ca8",
   "metadata": {
    "tags": []
   },
   "outputs": [
    {
     "data": {
      "text/plain": [
       "array([[1, 2, 3],\n",
       "       [2, 3, 0],\n",
       "       [3, 0, 1],\n",
       "       [0, 1, 2]])"
      ]
     },
     "execution_count": 53,
     "metadata": {},
     "output_type": "execute_result"
    }
   ],
   "source": [
    "indices"
   ]
  },
  {
   "cell_type": "code",
   "execution_count": 58,
   "id": "c8229392-2cd3-46d0-996e-1fd67ddff4f8",
   "metadata": {
    "tags": []
   },
   "outputs": [
    {
     "data": {
      "text/plain": [
       "array([[1, 2, 3],\n",
       "       [2, 4, 6],\n",
       "       [3, 6, 9]])"
      ]
     },
     "execution_count": 58,
     "metadata": {},
     "output_type": "execute_result"
    }
   ],
   "source": [
    "indices[0]*np.expand_dims(indices[0], axis=-1)"
   ]
  },
  {
   "cell_type": "code",
   "execution_count": 46,
   "id": "df661b3b-97a4-4646-86a8-15ddf5b75987",
   "metadata": {
    "tags": []
   },
   "outputs": [],
   "source": [
    "signs = np.random.randint(2, size=(10,))\n",
    "signs = np.array([np.roll(signs, -i-1, axis=0)[:-1] for i in signs])"
   ]
  },
  {
   "cell_type": "code",
   "execution_count": 47,
   "id": "96b9da7b-b71b-4d29-a3da-6a03c0a9d1a6",
   "metadata": {
    "tags": []
   },
   "outputs": [
    {
     "data": {
      "text/plain": [
       "array([[0, 1, 0, 0, 1, 1, 0, 0, 1],\n",
       "       [0, 1, 0, 0, 1, 1, 0, 0, 1],\n",
       "       [1, 0, 0, 1, 1, 0, 0, 1, 0],\n",
       "       [0, 1, 0, 0, 1, 1, 0, 0, 1],\n",
       "       [0, 1, 0, 0, 1, 1, 0, 0, 1],\n",
       "       [1, 0, 0, 1, 1, 0, 0, 1, 0],\n",
       "       [1, 0, 0, 1, 1, 0, 0, 1, 0],\n",
       "       [0, 1, 0, 0, 1, 1, 0, 0, 1],\n",
       "       [0, 1, 0, 0, 1, 1, 0, 0, 1],\n",
       "       [1, 0, 0, 1, 1, 0, 0, 1, 0]])"
      ]
     },
     "execution_count": 47,
     "metadata": {},
     "output_type": "execute_result"
    }
   ],
   "source": [
    "signs"
   ]
  },
  {
   "cell_type": "code",
   "execution_count": 48,
   "id": "161d9556-8a01-4111-a5f7-d29c1c4a230e",
   "metadata": {},
   "outputs": [
    {
     "data": {
      "text/plain": [
       "array([6, 8, 0, 1, 7, 0, 5, 1, 2, 3])"
      ]
     },
     "execution_count": 48,
     "metadata": {},
     "output_type": "execute_result"
    }
   ],
   "source": [
    "pqr =  np.random.randint(10, size=(10,))\n",
    "pqr"
   ]
  },
  {
   "cell_type": "code",
   "execution_count": 49,
   "id": "ff8968ee-60d7-4f43-94e0-d8a892671dc3",
   "metadata": {
    "tags": []
   },
   "outputs": [
    {
     "data": {
      "text/plain": [
       "array([[0, 6, 0, 0, 6, 6, 0, 0, 6],\n",
       "       [0, 8, 0, 0, 8, 8, 0, 0, 8],\n",
       "       [0, 0, 0, 0, 0, 0, 0, 0, 0],\n",
       "       [0, 1, 0, 0, 1, 1, 0, 0, 1],\n",
       "       [0, 7, 0, 0, 7, 7, 0, 0, 7],\n",
       "       [0, 0, 0, 0, 0, 0, 0, 0, 0],\n",
       "       [5, 0, 0, 5, 5, 0, 0, 5, 0],\n",
       "       [0, 1, 0, 0, 1, 1, 0, 0, 1],\n",
       "       [0, 2, 0, 0, 2, 2, 0, 0, 2],\n",
       "       [3, 0, 0, 3, 3, 0, 0, 3, 0]])"
      ]
     },
     "execution_count": 49,
     "metadata": {},
     "output_type": "execute_result"
    }
   ],
   "source": [
    "pqr[:, np.newaxis] * signs"
   ]
  },
  {
   "cell_type": "code",
   "execution_count": 50,
   "id": "417d86bd-f887-4073-8977-e6f956f5f67d",
   "metadata": {},
   "outputs": [
    {
     "data": {
      "text/plain": [
       "array([0.8 , 0.85, 0.9 , 0.95, 1.  , 1.05, 1.1 , 1.15, 1.2 , 1.25, 1.3 ,\n",
       "       1.35, 1.4 , 1.45, 1.5 , 1.55, 1.6 , 1.65, 1.7 , 1.75, 1.8 , 1.85,\n",
       "       1.9 , 1.95, 2.  , 2.05, 2.1 , 2.15, 2.2 , 2.25, 2.3 , 2.35, 2.4 ,\n",
       "       2.45, 2.5 , 2.55, 2.6 , 2.65, 2.7 , 2.75, 2.8 , 2.85, 2.9 , 2.95])"
      ]
     },
     "execution_count": 50,
     "metadata": {},
     "output_type": "execute_result"
    }
   ],
   "source": [
    "np.arange(0.8, 3, 0.05)"
   ]
  },
  {
   "cell_type": "code",
   "execution_count": 51,
   "id": "bd9fa220-b4d5-4f49-9627-e5e891816d6b",
   "metadata": {},
   "outputs": [],
   "source": [
    "import numpy as np\n",
    "sp = np.random.uniform(-1, 1, size=(5,))"
   ]
  },
  {
   "cell_type": "code",
   "execution_count": 52,
   "id": "5d8a5071-fef7-433c-b15b-7e304c641427",
   "metadata": {},
   "outputs": [],
   "source": [
    "sp_sds = np.array([sp for _ in range(11)])"
   ]
  },
  {
   "cell_type": "code",
   "execution_count": 53,
   "id": "d49f502a-de5e-4e1c-b2d9-1e520d2661b1",
   "metadata": {
    "tags": []
   },
   "outputs": [
    {
     "data": {
      "text/plain": [
       "array([[-0.02826451, -0.77280649,  0.30732505,  0.36691846, -0.69969857],\n",
       "       [-0.02826451, -0.77280649,  0.30732505,  0.36691846, -0.69969857],\n",
       "       [-0.02826451, -0.77280649,  0.30732505,  0.36691846, -0.69969857],\n",
       "       [-0.02826451, -0.77280649,  0.30732505,  0.36691846, -0.69969857],\n",
       "       [-0.02826451, -0.77280649,  0.30732505,  0.36691846, -0.69969857],\n",
       "       [-0.02826451, -0.77280649,  0.30732505,  0.36691846, -0.69969857],\n",
       "       [-0.02826451, -0.77280649,  0.30732505,  0.36691846, -0.69969857],\n",
       "       [-0.02826451, -0.77280649,  0.30732505,  0.36691846, -0.69969857],\n",
       "       [-0.02826451, -0.77280649,  0.30732505,  0.36691846, -0.69969857],\n",
       "       [-0.02826451, -0.77280649,  0.30732505,  0.36691846, -0.69969857],\n",
       "       [-0.02826451, -0.77280649,  0.30732505,  0.36691846, -0.69969857]])"
      ]
     },
     "execution_count": 53,
     "metadata": {},
     "output_type": "execute_result"
    }
   ],
   "source": [
    "sp_sds"
   ]
  },
  {
   "cell_type": "code",
   "execution_count": 54,
   "id": "bd943706-4eb1-4dc7-bb32-36309bd47c2c",
   "metadata": {
    "tags": []
   },
   "outputs": [
    {
     "data": {
      "text/plain": [
       "array([-0.82652606, -0.82652606, -0.82652606, -0.82652606, -0.82652606,\n",
       "       -0.82652606, -0.82652606, -0.82652606, -0.82652606, -0.82652606,\n",
       "       -0.82652606])"
      ]
     },
     "execution_count": 54,
     "metadata": {},
     "output_type": "execute_result"
    }
   ],
   "source": [
    "sp_sds[:, :-1].sum(axis=1) + sp_sds[:, -1]"
   ]
  },
  {
   "cell_type": "code",
   "execution_count": 1,
   "id": "602bccfb-4976-49f7-88dc-ceb37fa1e231",
   "metadata": {},
   "outputs": [],
   "source": [
    "import numpy as np\n",
    "as_ = np.random.randint(2, size=(5))\n",
    "bs_ = np.random.randint(2, size=(2))\n",
    "ws_ =  np.random.randint(10, size=(5,2))\n",
    "# for order in orders:\n",
    "#     print(order)"
   ]
  },
  {
   "cell_type": "code",
   "execution_count": 3,
   "id": "71a4c131-a0ec-4bc9-b140-83ba185931bb",
   "metadata": {},
   "outputs": [
    {
     "data": {
      "text/plain": [
       "(array([1, 0, 1, 0, 1]),\n",
       " array([1, 0]),\n",
       " array([[2, 2],\n",
       "        [0, 0],\n",
       "        [7, 0],\n",
       "        [7, 1],\n",
       "        [1, 1]]))"
      ]
     },
     "execution_count": 3,
     "metadata": {},
     "output_type": "execute_result"
    }
   ],
   "source": [
    "as_, bs_, ws_"
   ]
  },
  {
   "cell_type": "code",
   "execution_count": 4,
   "id": "47de16bb-3fc6-4f84-812a-a4643e8762e7",
   "metadata": {},
   "outputs": [],
   "source": [
    "_params = [as_, bs_, ws_]"
   ]
  },
  {
   "cell_type": "code",
   "execution_count": 7,
   "id": "6217f11b-e34a-48dd-ada7-e01930c0c7b4",
   "metadata": {
    "tags": []
   },
   "outputs": [
    {
     "data": {
      "text/plain": [
       "array([1, 0, 1, 0, 1, 1, 0, 2, 2, 0, 0, 7, 0, 7, 1, 1, 1])"
      ]
     },
     "execution_count": 7,
     "metadata": {},
     "output_type": "execute_result"
    }
   ],
   "source": [
    "np.hstack([i.flat for i in _params])"
   ]
  },
  {
   "cell_type": "code",
   "execution_count": 12,
   "id": "49200ea7-b754-49d9-bdca-156236c2cafc",
   "metadata": {
    "tags": []
   },
   "outputs": [
    {
     "ename": "TypeError",
     "evalue": "random() got multiple values for keyword argument 'size'",
     "output_type": "error",
     "traceback": [
      "\u001b[0;31m---------------------------------------------------------------------------\u001b[0m",
      "\u001b[0;31mTypeError\u001b[0m                                 Traceback (most recent call last)",
      "\u001b[0;32m/scratch/local/10500312/ipykernel_1135148/2146898245.py\u001b[0m in \u001b[0;36m<cell line: 1>\u001b[0;34m()\u001b[0m\n\u001b[0;32m----> 1\u001b[0;31m \u001b[0mnp\u001b[0m\u001b[0;34m.\u001b[0m\u001b[0mrandom\u001b[0m\u001b[0;34m.\u001b[0m\u001b[0mrandom\u001b[0m\u001b[0;34m(\u001b[0m\u001b[0;34m[\u001b[0m\u001b[0;34m-\u001b[0m\u001b[0;36m0.02\u001b[0m\u001b[0;34m,\u001b[0m \u001b[0;36m0.02\u001b[0m\u001b[0;34m]\u001b[0m\u001b[0;34m,\u001b[0m \u001b[0msize\u001b[0m\u001b[0;34m=\u001b[0m\u001b[0;34m(\u001b[0m\u001b[0;36m2\u001b[0m\u001b[0;34m,\u001b[0m\u001b[0;36m2\u001b[0m\u001b[0;34m)\u001b[0m\u001b[0;34m)\u001b[0m\u001b[0;34m\u001b[0m\u001b[0;34m\u001b[0m\u001b[0m\n\u001b[0m",
      "\u001b[0;32mmtrand.pyx\u001b[0m in \u001b[0;36mnumpy.random.mtrand.RandomState.random\u001b[0;34m()\u001b[0m\n",
      "\u001b[0;31mTypeError\u001b[0m: random() got multiple values for keyword argument 'size'"
     ]
    }
   ],
   "source": [
    "np.random.random([-0.02, 0.02], size=(2,2))"
   ]
  },
  {
   "cell_type": "code",
   "execution_count": 22,
   "id": "220af046-7de9-4799-9724-feac822287e5",
   "metadata": {},
   "outputs": [],
   "source": [
    "pram_shape = [(15,)]\n",
    "# [(random.random() * 0.04) - 0.02 for _ in range(*param_shape)]"
   ]
  },
  {
   "cell_type": "code",
   "execution_count": 23,
   "id": "72117ed7-e071-49da-a59a-15155f1a80be",
   "metadata": {
    "tags": []
   },
   "outputs": [
    {
     "data": {
      "text/plain": [
       "15"
      ]
     },
     "execution_count": 23,
     "metadata": {},
     "output_type": "execute_result"
    }
   ],
   "source": [
    "np.prod(pram_shape)"
   ]
  },
  {
   "cell_type": "code",
   "execution_count": 24,
   "id": "f78aaeaa-739f-4240-b280-557267c5aa28",
   "metadata": {
    "tags": []
   },
   "outputs": [
    {
     "data": {
      "text/plain": [
       "array([1., 1., 1., 1., 1.])"
      ]
     },
     "execution_count": 24,
     "metadata": {},
     "output_type": "execute_result"
    }
   ],
   "source": [
    "np.ones(5)"
   ]
  },
  {
   "cell_type": "code",
   "execution_count": 1,
   "id": "6cbc1372-56f8-4539-9f4e-035322d361d7",
   "metadata": {},
   "outputs": [],
   "source": []
  },
  {
   "cell_type": "code",
   "execution_count": null,
   "id": "6a258538-b281-46c2-9cf7-8816b5b3c64b",
   "metadata": {},
   "outputs": [],
   "source": []
  }
 ],
 "metadata": {
  "kernelspec": {
   "display_name": "UFRC Python-3.10",
   "language": "python",
   "name": "python3-3.10-ufrc"
  },
  "language_info": {
   "codemirror_mode": {
    "name": "ipython",
    "version": 3
   },
   "file_extension": ".py",
   "mimetype": "text/x-python",
   "name": "python",
   "nbconvert_exporter": "python",
   "pygments_lexer": "ipython3",
   "version": "3.10.5"
  }
 },
 "nbformat": 4,
 "nbformat_minor": 5
}
